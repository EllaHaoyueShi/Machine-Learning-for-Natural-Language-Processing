{
  "cells": [
    {
      "cell_type": "code",
      "execution_count": null,
      "metadata": {
        "id": "gALCagMSOnRz",
        "tags": []
      },
      "outputs": [],
      "source": [
        "%matplotlib inline"
      ]
    },
    {
      "cell_type": "markdown",
      "metadata": {
        "id": "jgHDDrKlO35U"
      },
      "source": [
        "### Source: [link](https://pytorch.org/tutorials/beginner/nlp/word_embeddings_tutorial.html#exercise-computing-word-embeddings-continuous-bag-of-words)\n",
        "\n",
        "# Word Embeddings: Encoding Lexical Semantics\n",
        "\n",
        "Word embeddings are dense vectors of real numbers, one per word in your\n",
        "vocabulary. In NLP, it is almost always the case that your features are\n",
        "words! But how should you represent a word in a computer? You could\n",
        "store its ascii character representation, but that only tells you what\n",
        "the word *is*, it doesn't say much about what it *means* (you might be\n",
        "able to derive its part of speech from its affixes, or properties from\n",
        "its capitalization, but not much). Even more, in what sense could you\n",
        "combine these representations? We often want dense outputs from our\n",
        "neural networks, where the inputs are $|V|$ dimensional, where\n",
        "$V$ is our vocabulary, but often the outputs are only a few\n",
        "dimensional (if we are only predicting a handful of labels, for\n",
        "instance). How do we get from a massive dimensional space to a smaller\n",
        "dimensional space?\n",
        "\n",
        "How about instead of ascii representations, we use a one-hot encoding?\n",
        "That is, we represent the word $w$ by\n",
        "\n",
        "\\begin{align}\\overbrace{\\left[ 0, 0, \\dots, 1, \\dots, 0, 0 \\right]}^\\text{|V| elements}\\end{align}\n",
        "\n",
        "where the 1 is in a location unique to $w$. Any other word will\n",
        "have a 1 in some other location, and a 0 everywhere else.\n",
        "\n",
        "There is an enormous drawback to this representation, besides just how\n",
        "huge it is. It basically treats all words as independent entities with\n",
        "no relation to each other. What we really want is some notion of\n",
        "*similarity* between words. Why? Let's see an example.\n",
        "\n",
        "Suppose we are building a language model. Suppose we have seen the\n",
        "sentences\n",
        "\n",
        "* The mathematician ran to the store.\n",
        "* The physicist ran to the store.\n",
        "* The mathematician solved the open problem.\n",
        "\n",
        "in our training data. Now suppose we get a new sentence never before\n",
        "seen in our training data:\n",
        "\n",
        "* The physicist solved the open problem.\n",
        "\n",
        "Our language model might do OK on this sentence, but wouldn't it be much\n",
        "better if we could use the following two facts:\n",
        "\n",
        "* We have seen  mathematician and physicist in the same role in a sentence. Somehow they\n",
        "  have a semantic relation.\n",
        "* We have seen mathematician in the same role  in this new unseen sentence\n",
        "  as we are now seeing physicist.\n",
        "\n",
        "and then infer that physicist is actually a good fit in the new unseen\n",
        "sentence? This is what we mean by a notion of similarity: we mean\n",
        "*semantic similarity*, not simply having similar orthographic\n",
        "representations. It is a technique to combat the sparsity of linguistic\n",
        "data, by connecting the dots between what we have seen and what we\n",
        "haven't. This example of course relies on a fundamental linguistic\n",
        "assumption: that words appearing in similar contexts are related to each\n",
        "other semantically. This is called the `distributional\n",
        "hypothesis <https://en.wikipedia.org/wiki/Distributional_semantics>`__.\n",
        "\n",
        "\n",
        "# Getting Dense Word Embeddings\n",
        "\n",
        "How can we solve this problem? That is, how could we actually encode\n",
        "semantic similarity in words? Maybe we think up some semantic\n",
        "attributes. For example, we see that both mathematicians and physicists\n",
        "can run, so maybe we give these words a high score for the \"is able to\n",
        "run\" semantic attribute. Think of some other attributes, and imagine\n",
        "what you might score some common words on those attributes.\n",
        "\n",
        "If each attribute is a dimension, then we might give each word a vector,\n",
        "like this:\n",
        "\n",
        "\\begin{align}q_\\text{mathematician} = \\left[ \\overbrace{2.3}^\\text{can run},\n",
        "   \\overbrace{9.4}^\\text{likes coffee}, \\overbrace{-5.5}^\\text{majored in Physics}, \\dots \\right]\\end{align}\n",
        "\n",
        "\\begin{align}q_\\text{physicist} = \\left[ \\overbrace{2.5}^\\text{can run},\n",
        "   \\overbrace{9.1}^\\text{likes coffee}, \\overbrace{6.4}^\\text{majored in Physics}, \\dots \\right]\\end{align}\n",
        "\n",
        "Then we can get a measure of similarity between these words by doing:\n",
        "\n",
        "\\begin{align}\\text{Similarity}(\\text{physicist}, \\text{mathematician}) = q_\\text{physicist} \\cdot q_\\text{mathematician}\\end{align}\n",
        "\n",
        "Although it is more common to normalize by the lengths:\n",
        "\n",
        "\\begin{align}\\text{Similarity}(\\text{physicist}, \\text{mathematician}) = \\frac{q_\\text{physicist} \\cdot q_\\text{mathematician}}\n",
        "   {\\| q_\\text{\\physicist} \\| \\| q_\\text{mathematician} \\|} = \\cos (\\phi)\\end{align}\n",
        "\n",
        "Where $\\phi$ is the angle between the two vectors. That way,\n",
        "extremely similar words (words whose embeddings point in the same\n",
        "direction) will have similarity 1. Extremely dissimilar words should\n",
        "have similarity -1.\n",
        "\n",
        "\n",
        "You can think of the sparse one-hot vectors from the beginning of this\n",
        "section as a special case of these new vectors we have defined, where\n",
        "each word basically has similarity 0, and we gave each word some unique\n",
        "semantic attribute. These new vectors are *dense*, which is to say their\n",
        "entries are (typically) non-zero.\n",
        "\n",
        "But these new vectors are a big pain: you could think of thousands of\n",
        "different semantic attributes that might be relevant to determining\n",
        "similarity, and how on earth would you set the values of the different\n",
        "attributes? Central to the idea of deep learning is that the neural\n",
        "network learns representations of the features, rather than requiring\n",
        "the programmer to design them herself. So why not just let the word\n",
        "embeddings be parameters in our model, and then be updated during\n",
        "training? This is exactly what we will do. We will have some *latent\n",
        "semantic attributes* that the network can, in principle, learn. Note\n",
        "that the word embeddings will probably not be interpretable. That is,\n",
        "although with our hand-crafted vectors above we can see that\n",
        "mathematicians and physicists are similar in that they both like coffee,\n",
        "if we allow a neural network to learn the embeddings and see that both\n",
        "mathematicians and physicists have a large value in the second\n",
        "dimension, it is not clear what that means. They are similar in some\n",
        "latent semantic dimension, but this probably has no interpretation to\n",
        "us.\n",
        "\n",
        "\n",
        "In summary, **word embeddings are a representation of the *semantics* of\n",
        "a word, efficiently encoding semantic information that might be relevant\n",
        "to the task at hand**. You can embed other things too: part of speech\n",
        "tags, parse trees, anything! The idea of feature embeddings is central\n",
        "to the field.\n",
        "\n",
        "\n",
        "# Word Embeddings in Pytorch\n",
        "\n",
        "Before we get to a worked example and an exercise, a few quick notes\n",
        "about how to use embeddings in Pytorch and in deep learning programming\n",
        "in general. Similar to how we defined a unique index for each word when\n",
        "making one-hot vectors, we also need to define an index for each word\n",
        "when using embeddings. These will be keys into a lookup table. That is,\n",
        "embeddings are stored as a $|V| \\times D$ matrix, where $D$\n",
        "is the dimensionality of the embeddings, such that the word assigned\n",
        "index $i$ has its embedding stored in the $i$'th row of the\n",
        "matrix. In all of my code, the mapping from words to indices is a\n",
        "dictionary named word\\_to\\_ix.\n",
        "\n",
        "The module that allows you to use embeddings is torch.nn.Embedding,\n",
        "which takes two arguments: the vocabulary size, and the dimensionality\n",
        "of the embeddings.\n",
        "\n",
        "To index into this table, you must use torch.LongTensor (since the\n",
        "indices are integers, not floats).\n",
        "\n",
        "\n"
      ]
    },
    {
      "cell_type": "code",
      "execution_count": null,
      "metadata": {
        "colab": {
          "base_uri": "https://localhost:8080/"
        },
        "id": "M_Q2GVH0OwvH",
        "outputId": "234fb5ca-3f93-47a7-dfa4-00fa8b7888df",
        "tags": []
      },
      "outputs": [
        {
          "output_type": "execute_result",
          "data": {
            "text/plain": [
              "<torch._C.Generator at 0x7a0772d70c50>"
            ]
          },
          "metadata": {},
          "execution_count": 1
        }
      ],
      "source": [
        "# Author: Robert Guthrie\n",
        "import torch\n",
        "import torch.nn as nn\n",
        "import torch.nn.functional as F\n",
        "import torch.optim as optim\n",
        "import numpy as np\n",
        "from tqdm import tqdm\n",
        "torch.manual_seed(1)"
      ]
    },
    {
      "cell_type": "code",
      "execution_count": null,
      "metadata": {
        "colab": {
          "base_uri": "https://localhost:8080/"
        },
        "id": "MN96_fK5Plv6",
        "outputId": "004b7aa7-18ab-40e9-bedb-c3a19f3aa39c",
        "tags": []
      },
      "outputs": [
        {
          "output_type": "stream",
          "name": "stdout",
          "text": [
            "tensor([[ 0.6614,  0.2669,  0.0617,  0.6213, -0.4519]],\n",
            "       grad_fn=<EmbeddingBackward0>)\n"
          ]
        }
      ],
      "source": [
        "word_to_ix = {\"hello\": 0, \"world\": 1}\n",
        "embeds = nn.Embedding(2, 5)  # 2 words in vocab, 5 dimensional embeddings\n",
        "lookup_tensor = torch.tensor([word_to_ix[\"hello\"]], dtype=torch.long)\n",
        "hello_embed = embeds(lookup_tensor)\n",
        "print(hello_embed)"
      ]
    },
    {
      "cell_type": "markdown",
      "metadata": {
        "id": "l3ecRemdPstX"
      },
      "source": [
        "# An Example: N-Gram Language Modeling\n",
        "\n",
        "Recall that in an n-gram language model, given a sequence of words\n",
        "$w$, we want to compute\n",
        "\n",
        "\\begin{align}P(w_i | w_{i-1}, w_{i-2}, \\dots, w_{i-n+1} )\\end{align}\n",
        "\n",
        "Where $w_i$ is the ith word of the sequence.\n",
        "\n",
        "In this example, we will compute the loss function on some training\n",
        "examples and update the parameters with backpropagation."
      ]
    },
    {
      "cell_type": "code",
      "execution_count": null,
      "metadata": {
        "colab": {
          "base_uri": "https://localhost:8080/"
        },
        "id": "FbPuck6EPn2x",
        "outputId": "c5d2ffac-6ba0-4c41-cc65-76e0037ac34c",
        "tags": []
      },
      "outputs": [
        {
          "output_type": "stream",
          "name": "stdout",
          "text": [
            "[(['When', 'forty'], 'winters'), (['forty', 'winters'], 'shall'), (['winters', 'shall'], 'besiege')]\n",
            "Loss in Epoch 0: 515.64\n",
            "Loss in Epoch 1: 512.99\n",
            "Loss in Epoch 2: 510.34\n",
            "Loss in Epoch 3: 507.72\n",
            "Loss in Epoch 4: 505.1\n",
            "Loss in Epoch 5: 502.51\n",
            "Loss in Epoch 6: 499.93\n",
            "Loss in Epoch 7: 497.35\n",
            "Loss in Epoch 8: 494.79\n",
            "Loss in Epoch 9: 492.23\n"
          ]
        }
      ],
      "source": [
        "CONTEXT_SIZE = 2\n",
        "EMBEDDING_DIM = 10\n",
        "# We will use Shakespeare Sonnet 2\n",
        "test_sentence = \"\"\"When forty winters shall besiege thy brow,\n",
        "And dig deep trenches in thy beauty's field,\n",
        "Thy youth's proud livery so gazed on now,\n",
        "Will be a totter'd weed of small worth held:\n",
        "Then being asked, where all thy beauty lies,\n",
        "Where all the treasure of thy lusty days;\n",
        "To say, within thine own deep sunken eyes,\n",
        "Were an all-eating shame, and thriftless praise.\n",
        "How much more praise deserv'd thy beauty's use,\n",
        "If thou couldst answer 'This fair child of mine\n",
        "Shall sum my count, and make my old excuse,'\n",
        "Proving his beauty by succession thine!\n",
        "This were to be new made when thou art old,\n",
        "And see thy blood warm when thou feel'st it cold.\"\"\".split()\n",
        "# we should tokenize the input, but we will ignore that for now\n",
        "# build a list of tuples.  Each tuple is ([ word_i-2, word_i-1 ], target word)\n",
        "trigrams = [([test_sentence[i], test_sentence[i + 1]], test_sentence[i + 2])\n",
        "            for i in range(len(test_sentence) - 2)]\n",
        "# print the first 3, just so you can see what they look like\n",
        "print(trigrams[:3])\n",
        "\n",
        "vocab = set(test_sentence)\n",
        "word_to_ix = {word: i for i, word in enumerate(vocab)}\n",
        "\n",
        "\n",
        "class NGramLanguageModeler(nn.Module):\n",
        "\n",
        "    def __init__(self, vocab_size, embedding_dim, context_size):\n",
        "        super(NGramLanguageModeler, self).__init__()\n",
        "        self.embeddings = nn.Embedding(vocab_size, embedding_dim)\n",
        "        self.linear1 = nn.Linear(context_size * embedding_dim, 128)\n",
        "        self.linear2 = nn.Linear(128, vocab_size)\n",
        "\n",
        "    def forward(self, inputs):\n",
        "        embeds = self.embeddings(inputs).view((1, -1))\n",
        "        out = F.relu(self.linear1(embeds))\n",
        "        out = self.linear2(out)\n",
        "        log_probs = F.log_softmax(out, dim=1)\n",
        "        return log_probs\n",
        "\n",
        "\n",
        "losses = []\n",
        "loss_function = nn.NLLLoss() # Negative Log Likelihood Loss\n",
        "model = NGramLanguageModeler(len(vocab), EMBEDDING_DIM, CONTEXT_SIZE)\n",
        "optimizer = optim.SGD(model.parameters(), lr=0.001)\n",
        "\n",
        "for epoch in range(10):\n",
        "    total_loss = 0\n",
        "    for context, target in trigrams:\n",
        "\n",
        "        # Step 1. Prepare the inputs to be passed to the model (i.e, turn the words\n",
        "        # into integer indices and wrap them in tensors)\n",
        "        context_idxs = torch.tensor([word_to_ix[w] for w in context], dtype=torch.long)\n",
        "\n",
        "        # Step 2. Recall that torch *accumulates* gradients. Before passing in a\n",
        "        # new instance, you need to zero out the gradients from the old\n",
        "        # instance\n",
        "        model.zero_grad()\n",
        "\n",
        "        # Step 3. Run the forward pass, getting log probabilities over next\n",
        "        # words\n",
        "        log_probs = model(context_idxs)\n",
        "\n",
        "        # Step 4. Compute your loss function. (Again, Torch wants the target\n",
        "        # word wrapped in a tensor)\n",
        "        loss = loss_function(log_probs, torch.tensor([word_to_ix[target]], dtype=torch.long))\n",
        "\n",
        "        # Step 5. Do the backward pass and update the gradient\n",
        "        loss.backward()\n",
        "        optimizer.step()\n",
        "\n",
        "        # Get the Python number from a 1-element Tensor by calling tensor.item()\n",
        "        total_loss += loss.item()\n",
        "\n",
        "    # The loss decreased every iteration over the training data!\n",
        "    print(\"Loss in Epoch {ep}: {l}\".format(ep=epoch, l=np.round(total_loss, 2)))\n",
        "    losses.append(total_loss)"
      ]
    },
    {
      "cell_type": "markdown",
      "metadata": {
        "id": "7fV7zUnlz7xp"
      },
      "source": [
        "# Exercise: Computing Word Embeddings: Continuous Bag-of-Words\n",
        "\n",
        "The Continuous Bag-of-Words model (CBOW) is frequently used in NLP deep\n",
        "learning. It is a model that tries to predict words given the context of\n",
        "a few words before and a few words after the target word. This is\n",
        "distinct from language modeling, since CBOW is not sequential and does\n",
        "not have to be probabilistic. Typcially, CBOW is used to quickly train\n",
        "word embeddings, and these embeddings are used to initialize the\n",
        "embeddings of some more complicated model. Usually, this is referred to\n",
        "as *pretraining embeddings*. It almost always helps performance a couple\n",
        "of percent.\n",
        "\n",
        "The CBOW model is as follows. Given a target word $w_i$ and an\n",
        "$N$ context window on each side, $w_{i-1}, \\dots, w_{i-N}$\n",
        "and $w_{i+1}, \\dots, w_{i+N}$, referring to all context words\n",
        "collectively as $C$, CBOW tries to minimize\n",
        "\n",
        "\\begin{align}-\\log p(w_i | C) = -\\log\\text{Softmax}(A(\\sum_{w \\in C} q_w) + b)\\end{align}\n",
        "\n",
        "where $q_w$ is the embedding for word $w$.\n"
      ]
    },
    {
      "cell_type": "markdown",
      "metadata": {
        "id": "Pj_2_qqM7Md_"
      },
      "source": [
        "## Exercise Layout\n",
        "### 1. <u>Training CBOW Embeddings</u>\n",
        "1.1) Implement a CBOW Model by completing ```class CBOW(nn.Module)``` and train it on ```raw_text```.    \n",
        "\n",
        "1.2) Load Datasets ```tripadvisor_hotel_reviews_reduced.csv``` and ```scifi_reduced.txt```.     \n",
        "\n",
        "1.3) Decide preprocessing steps by completing the function ```def custom_preprocess()```. Describe your decisions. Note that it's your choice to create different preprocessing functions for hotel reviews and scifi datasets or use the same preprocessing function.             \n",
        "\n",
        "1.4) Train CBOW2 with a context width of 2 (in both directions) for the Hotel Reviews dataset.   \n",
        "\n",
        "1.5) Train CBOW5 with a context width of 5 (in both directions) for the Hotel Reviews dataset. Are predictions made by the model sensitive towards the context size?\n",
        "     \n",
        "1.6) Train CBOW2 with a context width of 2 (in both directions) for the Sci-Fi story dataset.  \n",
        "\n",
        "\n",
        "### 2. <u>Test your Embeddings</u>\n",
        "Note - Do the following for CBOW2, and optionally for CBOW5\n",
        "\n",
        "2.1) For the hotel reviews dataset, choose 3 nouns, 3 verbs, and 3 adjectives. Make sure that some nouns/verbs/adjectives occur frequently in the corpus and that others are rare. For each of the 9 chosen words, retrieve the 5 closest words according to your trained CBOW2 model. List them in your report and comment on the performance of your model: do the neighbours the model provides make sense? Discuss.   \n",
        "\n",
        "2.2) Do the same for Sci-Fi dataset.   \n",
        "\n",
        "2.3) How does the quality of the hotel review-based embeddings compare with the Sci-fi-based embeddings? Elaborate.   \n",
        "\n",
        "2.4) Choose 2 words and retrieve their 5 closest neighbours according to hotel review-based embeddings and the Sci-fi-based embeddings. Do they have different neighbours? If yes, can you reason why?    \n",
        "\n",
        "2.5) What are the differences between CBOW2 and CBOW5 ? Can you \"describe\" them?   \n"
      ]
    },
    {
      "cell_type": "markdown",
      "metadata": {
        "id": "Xvo1QvEf-iT2"
      },
      "source": [
        "### Tips\n",
        "\n",
        "1. Switch from CPU to a GPU instance after you have confirmed that your training procedure is working correctly.\n",
        "2. You can always save your intermediate results (embeddings, preprocessed dataset, model, etc.) in your google drive via colab\n"
      ]
    },
    {
      "cell_type": "markdown",
      "metadata": {
        "id": "vfG8j2JiRMly"
      },
      "source": [
        "\n",
        "### 1.1 Create a CBOW Model by completing ```class CBOW(nn.Module)``` and test it on ```raw_text```\n",
        "Implement CBOW in Pytorch by filling in the class below. Some\n",
        "tips:\n",
        "\n",
        "* Think about which parameters you need to define.\n",
        "* Make sure you know what shape each operation expects. Use .view() if you need to\n",
        "  reshape."
      ]
    },
    {
      "cell_type": "code",
      "execution_count": null,
      "metadata": {
        "tags": [],
        "id": "3Zd0-ItE0_WZ"
      },
      "outputs": [],
      "source": [
        "from torch.utils.data import DataLoader,Dataset"
      ]
    },
    {
      "cell_type": "code",
      "execution_count": null,
      "metadata": {
        "id": "YD26-qBLPxU8",
        "tags": []
      },
      "outputs": [],
      "source": [
        "CONTEXT_SIZE = 2  # 2 words to the left, 2 to the right\n",
        "raw_text = \"\"\"We are about to study the idea of a computational process.\n",
        "Computational processes are abstract beings that inhabit computers.\n",
        "As they evolve, processes manipulate other abstract things called data.\n",
        "The evolution of a process is directed by a pattern of rules\n",
        "called a program. People create programs to direct processes. In effect,\n",
        "we conjure the spirits of the computer with our spells.\"\"\".split()\n",
        "\n",
        "\n",
        "class CBOW(nn.Module):\n",
        "\n",
        "    def __init__(self,vocab_size,embedding_size=100,hidden_size=128):\n",
        "        super(CBOW,self).__init__()\n",
        "        self.embeddings = nn.Embedding(vocab_size,embedding_size)\n",
        "        self.linear1 = nn.Linear(embedding_size,hidden_size)\n",
        "        self.linear2 = nn.Linear(hidden_size,vocab_size)\n",
        "\n",
        "    def forward(self, inputs):\n",
        "        embeds = torch.sum(self.embeddings(inputs),axis=1)\n",
        "        out = F.relu(self.linear1(embeds))\n",
        "        out = self.linear2(out)\n",
        "        log_probs = F.log_softmax(out, dim=-1)\n",
        "        return log_probs\n",
        "\n",
        "# create your model and train.  here are some functions to help you make\n",
        "# the data ready for use by your module\n",
        "\n",
        "def make_context_vector(context, word_to_ix):\n",
        "    idxs = [word_to_ix[w] for w in context]\n",
        "    return torch.tensor(idxs, dtype=torch.long)\n",
        "\n",
        "\n",
        "# print(make_context_vector(data[0][0], word_to_ix)) # example\n",
        "\n",
        "class LanguageDataset(Dataset):\n",
        "    def __init__(self,dt,word_to_ix):\n",
        "        self.data = dt\n",
        "        self.word_to_ix = word_to_ix\n",
        "\n",
        "    def __getitem__(self,idx):\n",
        "        context,target = self.data[idx]\n",
        "        return make_context_vector(context,self.word_to_ix),torch.tensor([self.word_to_ix[target]], dtype=torch.long)\n",
        "\n",
        "    def __len__(self):\n",
        "        return len(self.data)\n",
        "\n",
        "device = 'cuda' if torch.cuda.is_available() else 'cpu'\n",
        "\n",
        "def train(model,load_data,word_to_ix,lr=1e-3,num_epoch=10,log_out_epoch=1,loss_return=False):\n",
        "    losses = []\n",
        "    loss_function = nn.NLLLoss() # Negative Log Likelihood Loss\n",
        "    optimizer = optim.SGD(model.parameters(),momentum=0.9,lr=lr)\n",
        "    print('starting....')\n",
        "    for epoch in tqdm(range(num_epoch)):\n",
        "        total_loss = 0\n",
        "        for i,(context, target) in enumerate(load_data):\n",
        "            # Step 1. Prepare the inputs to be passed to the model (i.e, turn the words\n",
        "            # into integer indices and wrap them in tensors)\n",
        "\n",
        "            # context_idxs = make_context_vector(context,word_to_ix)\n",
        "            # context_idxs = context_idxs.to(device)\n",
        "            context = context.to(device)\n",
        "            target = target.to(device)\n",
        "\n",
        "            # Step 2. Recall that torch *accumulates* gradients. Before passing in a\n",
        "            # new instance, you need to zero out the gradients from the old\n",
        "            # instance\n",
        "            model.zero_grad()\n",
        "\n",
        "            # Step 3. Run the forward pass, getting log probabilities over next\n",
        "            # words\n",
        "\n",
        "            #log_probs = model(context_idxs)\n",
        "            log_probs = model(context)\n",
        "\n",
        "            # Step 4. Compute your loss function. (Again, Torch wants the target\n",
        "            # word wrapped in a tensor)\n",
        "\n",
        "            # loss = loss_function(log_probs, torch.tensor([word_to_ix[target]], dtype=torch.long).to(device))\n",
        "            loss = loss_function(log_probs, target.view(-1))\n",
        "\n",
        "            # Step 5. Do the backward pass and update the gradient\n",
        "            loss.backward()\n",
        "            optimizer.step()\n",
        "\n",
        "            # Get the Python number from a 1-element Tensor by calling tensor.item()\n",
        "            total_loss += loss.item()\n",
        "\n",
        "        # The loss decreased every iteration over the training data!\n",
        "        if epoch % log_out_epoch==0 or epoch == num_epoch - 1:\n",
        "            print(\"Loss in Epoch {ep}: {l}\".format(ep=epoch, l=np.round(total_loss, 2)))\n",
        "        losses.append(total_loss)\n",
        "    if loss_return:\n",
        "        return losses"
      ]
    },
    {
      "cell_type": "code",
      "execution_count": null,
      "metadata": {
        "colab": {
          "base_uri": "https://localhost:8080/"
        },
        "id": "23fWW8xs0_Wa",
        "outputId": "47d71d87-4fd0-4ccf-9422-79d45ee3f98d"
      },
      "outputs": [
        {
          "output_type": "stream",
          "name": "stdout",
          "text": [
            "[(['We', 'are', 'to', 'study'], 'about'), (['are', 'about', 'study', 'the'], 'to'), (['about', 'to', 'the', 'idea'], 'study'), (['to', 'study', 'idea', 'of'], 'the'), (['study', 'the', 'of', 'a'], 'idea')]\n",
            "starting....\n"
          ]
        },
        {
          "output_type": "stream",
          "name": "stderr",
          "text": [
            " 50%|█████     | 5/10 [00:00<00:00, 43.50it/s]"
          ]
        },
        {
          "output_type": "stream",
          "name": "stdout",
          "text": [
            "Loss in Epoch 0: 60.19\n",
            "Loss in Epoch 1: 56.08\n",
            "Loss in Epoch 2: 51.06\n",
            "Loss in Epoch 3: 46.91\n",
            "Loss in Epoch 4: 43.01\n",
            "Loss in Epoch 5: 38.82\n",
            "Loss in Epoch 6: 35.14\n",
            "Loss in Epoch 7: 31.8\n",
            "Loss in Epoch 8: 28.07\n"
          ]
        },
        {
          "output_type": "stream",
          "name": "stderr",
          "text": [
            "100%|██████████| 10/10 [00:00<00:00, 44.12it/s]"
          ]
        },
        {
          "output_type": "stream",
          "name": "stdout",
          "text": [
            "Loss in Epoch 9: 24.27\n"
          ]
        },
        {
          "output_type": "stream",
          "name": "stderr",
          "text": [
            "\n"
          ]
        }
      ],
      "source": [
        "# By deriving a set from `raw_text`, we deduplicate the array\n",
        "vocab = set(raw_text)\n",
        "vocab_size = len(vocab)\n",
        "\n",
        "word_to_ix = {word: i for i, word in enumerate(vocab)}\n",
        "data = []\n",
        "for i in range(2, len(raw_text) - 2):\n",
        "    context = [raw_text[i - 2], raw_text[i - 1],\n",
        "               raw_text[i + 1], raw_text[i + 2]]\n",
        "    target = raw_text[i]\n",
        "    data.append((context, target))\n",
        "print(data[:5])\n",
        "\n",
        "training_data = LanguageDataset(data,word_to_ix)\n",
        "loader = DataLoader(training_data,batch_size=4,shuffle=True)\n",
        "\n",
        "# create CBOW(2) model\n",
        "model = CBOW(vocab_size).to(device)\n",
        "\n",
        "train(model,loader,word_to_ix,num_epoch=10)"
      ]
    },
    {
      "cell_type": "markdown",
      "metadata": {
        "id": "9NbVpFkR77uv"
      },
      "source": [
        "### 1.2 Load Datasets"
      ]
    },
    {
      "cell_type": "code",
      "execution_count": null,
      "metadata": {
        "id": "i4XpJnxV79rK",
        "tags": [],
        "colab": {
          "base_uri": "https://localhost:8080/"
        },
        "outputId": "ed9c487c-7870-4613-fb7a-aa8726d636d0"
      },
      "outputs": [
        {
          "output_type": "stream",
          "name": "stdout",
          "text": [
            "Downloading...\n",
            "From: https://drive.google.com/uc?id=1foE1JuZJeu5E_4qVge9kExzhvF32teuF\n",
            "To: /content/tripadvisor_hotel_reviews_reduced.csv\n",
            "100% 7.36M/7.36M [00:00<00:00, 107MB/s]\n",
            "Downloading...\n",
            "From: https://drive.google.com/uc?id=13IWXrTjGTrfCd9l7dScZVO8ZvMicPU75\n",
            "To: /content/scifi_reduced.txt\n",
            "100% 43.1M/43.1M [00:00<00:00, 87.7MB/s]\n"
          ]
        }
      ],
      "source": [
        "## Load Datasets tripadvisor_hotel_reviews_reduced.csv and scifi_reduced.txt\n",
        "\n",
        "!gdown 1foE1JuZJeu5E_4qVge9kExzhvF32teuF # For Hotel Reviews\n",
        "!gdown 13IWXrTjGTrfCd9l7dScZVO8ZvMicPU75 # For Scifi-Text"
      ]
    },
    {
      "cell_type": "markdown",
      "metadata": {
        "id": "F9AUsLd78JVv"
      },
      "source": [
        "### 1.3 Preprocess Datasets\n",
        "### 🗒❓ Describe your decisions for preprocessing the datasets"
      ]
    },
    {
      "cell_type": "code",
      "source": [
        "import nltk\n",
        "nltk.download('punkt')\n",
        "nltk.download('stopwords')\n"
      ],
      "metadata": {
        "colab": {
          "base_uri": "https://localhost:8080/"
        },
        "id": "xphavvfi3zdb",
        "outputId": "43edfadc-3bf5-461e-c173-3aaf80a5b414"
      },
      "execution_count": null,
      "outputs": [
        {
          "output_type": "stream",
          "name": "stderr",
          "text": [
            "[nltk_data] Downloading package punkt to /root/nltk_data...\n",
            "[nltk_data]   Unzipping tokenizers/punkt.zip.\n",
            "[nltk_data] Downloading package stopwords to /root/nltk_data...\n",
            "[nltk_data]   Unzipping corpora/stopwords.zip.\n"
          ]
        },
        {
          "output_type": "execute_result",
          "data": {
            "text/plain": [
              "True"
            ]
          },
          "metadata": {},
          "execution_count": 8
        }
      ]
    },
    {
      "cell_type": "code",
      "execution_count": null,
      "metadata": {
        "id": "9AEF16-v9Erc"
      },
      "outputs": [],
      "source": [
        "import pandas as pd\n",
        "import re\n",
        "import string\n",
        "import random\n",
        "import matplotlib.pyplot as plt\n",
        "import nltk\n",
        "from nltk.corpus import stopwords\n",
        "from nltk.tokenize import word_tokenize\n",
        "\n",
        "\n",
        "\n",
        "def clean_text(text, remove_stopwords=False):\n",
        "    ## lowercase\n",
        "    text = text.lower()\n",
        "    ## remove numbers\n",
        "    text = re.sub(r'\\d+','',text)\n",
        "    ## remove punctuation\n",
        "    text = text.translate(str.maketrans('', '', string.punctuation))\n",
        "    # Tokenize\n",
        "    tokens = word_tokenize(text)\n",
        "    # Remove stopwords (only for hotel reviews)\n",
        "    if remove_stopwords:\n",
        "        stop_words = set(stopwords.words('english'))\n",
        "        tokens = [word for word in tokens if word not in stop_words]\n",
        "    return tokens\n",
        "\n",
        "### Complete the preprocessing function and apply it to the datasets\n",
        "file_dict = {'hotel':'tripadvisor_hotel_reviews_reduced.csv',\\\n",
        "             'scifi':'scifi_reduced.txt'}\n",
        "def read_file(file):\n",
        "    \"\"\"\n",
        "    read files and preprocess the text.\n",
        "    return tokenized result.\n",
        "    \"\"\"\n",
        "    text = ''\n",
        "    if file == 'hotel':\n",
        "        df = pd.read_csv(file_dict[file])['Review']\n",
        "        for review in df:\n",
        "            text += review\n",
        "        # For the hotel review dataset, remove stopwords\n",
        "        tokens = clean_text(text, remove_stopwords=True)\n",
        "    elif file == 'scifi':\n",
        "        with open(file_dict[file], 'r') as f:\n",
        "            for line in f.readlines():\n",
        "                text += line\n",
        "        # For the sci-fi dataset, do not remove stopwords\n",
        "        tokens = clean_text(text, remove_stopwords=False)\n",
        "    else:\n",
        "        print('Input is invalid!!!')\n",
        "        return []\n",
        "    return tokens\n",
        "\n",
        "def custom_preprocess(file, width, sample_num=10000):\n",
        "    \"\"\"\n",
        "    Construct context-target pairs and sample.\n",
        "    \"\"\"\n",
        "    raw_text = read_file(file)\n",
        "    vocab = set(raw_text)\n",
        "    vocab_size = len(vocab)\n",
        "\n",
        "    # Construct vocabulary encoding dictionary\n",
        "    word_to_ix = {word: i for i, word in enumerate(vocab)}\n",
        "\n",
        "    # Construct context-target pairs\n",
        "    data = []\n",
        "    for i in range(width, len(raw_text) - width):\n",
        "        context = raw_text[i-width:i] + raw_text[i+1:i+width+1]\n",
        "        target = raw_text[i]\n",
        "        data.append((context, target))\n",
        "\n",
        "    # Randomly sample the specified number of context-target pairs\n",
        "    sample_data = random.sample(data, min(sample_num, len(data)))\n",
        "    return sample_data, word_to_ix"
      ]
    },
    {
      "cell_type": "markdown",
      "metadata": {
        "id": "Meat_kJq0_Wa"
      },
      "source": [
        "1. Clean the original text: In this part, each character is first converted to lowercase, then any numeric digits are removed, and finally, punctuation is also removed. These steps help reduce the vocabulary size, making the text data simpler and more standardized for further processing.\n",
        "\n",
        "2. Constructing training data: After cleaning the text, a vocabulary is built where each unique word is encoded as a unique number. For each target word, corresponding context words are also stored. Given that the total number of context-target pairs is too large for efficient training, 10,000 pairs are randomly selected to create a manageable sample size for model training.\n",
        "\n",
        "3. The code leverages NLTK to tokenize the text and uses different stopword removal rules for each dataset. For the hotel review dataset, common stopwords are removed to focus on more meaningful words, while in the sci-fi text dataset, stopwords are retained to capture the complete vocabulary and context."
      ]
    },
    {
      "cell_type": "markdown",
      "metadata": {
        "id": "5UEHh3zP9nUn"
      },
      "source": [
        "### 1.4 Train CBOW2 with a context width of 2 (in both directions) for the Hotel Reviews dataset."
      ]
    },
    {
      "cell_type": "code",
      "execution_count": null,
      "metadata": {
        "colab": {
          "base_uri": "https://localhost:8080/"
        },
        "id": "3aSMX0gl0_Wa",
        "outputId": "34fbfcd6-5847-4133-937d-631a8cab7cee"
      },
      "outputs": [
        {
          "output_type": "stream",
          "name": "stdout",
          "text": [
            "starting....\n"
          ]
        },
        {
          "output_type": "stream",
          "name": "stderr",
          "text": [
            "  3%|▎         | 1/30 [00:12<05:54, 12.22s/it]"
          ]
        },
        {
          "output_type": "stream",
          "name": "stdout",
          "text": [
            "Loss in Epoch 0: 12218.45\n"
          ]
        },
        {
          "output_type": "stream",
          "name": "stderr",
          "text": [
            " 20%|██        | 6/30 [01:16<05:02, 12.62s/it]"
          ]
        },
        {
          "output_type": "stream",
          "name": "stdout",
          "text": [
            "Loss in Epoch 5: 3695.65\n"
          ]
        },
        {
          "output_type": "stream",
          "name": "stderr",
          "text": [
            " 37%|███▋      | 11/30 [02:18<03:55, 12.37s/it]"
          ]
        },
        {
          "output_type": "stream",
          "name": "stdout",
          "text": [
            "Loss in Epoch 10: 143.09\n"
          ]
        },
        {
          "output_type": "stream",
          "name": "stderr",
          "text": [
            " 53%|█████▎    | 16/30 [03:20<02:52, 12.30s/it]"
          ]
        },
        {
          "output_type": "stream",
          "name": "stdout",
          "text": [
            "Loss in Epoch 15: 51.0\n"
          ]
        },
        {
          "output_type": "stream",
          "name": "stderr",
          "text": [
            " 70%|███████   | 21/30 [04:21<01:49, 12.20s/it]"
          ]
        },
        {
          "output_type": "stream",
          "name": "stdout",
          "text": [
            "Loss in Epoch 20: 33.94\n"
          ]
        },
        {
          "output_type": "stream",
          "name": "stderr",
          "text": [
            " 87%|████████▋ | 26/30 [05:26<00:51, 12.99s/it]"
          ]
        },
        {
          "output_type": "stream",
          "name": "stdout",
          "text": [
            "Loss in Epoch 25: 25.66\n"
          ]
        },
        {
          "output_type": "stream",
          "name": "stderr",
          "text": [
            "100%|██████████| 30/30 [06:15<00:00, 12.50s/it]"
          ]
        },
        {
          "output_type": "stream",
          "name": "stdout",
          "text": [
            "Loss in Epoch 29: 21.5\n"
          ]
        },
        {
          "output_type": "stream",
          "name": "stderr",
          "text": [
            "\n"
          ]
        }
      ],
      "source": [
        "width=2\n",
        "hotel_data,hotel_word_to_ix = custom_preprocess('hotel',width)\n",
        "hotel_training_data = LanguageDataset(hotel_data,hotel_word_to_ix)\n",
        "hotel_loader = DataLoader(hotel_training_data,batch_size=8,shuffle=True)\n",
        "\n",
        "hotel_cbow2 = CBOW(len(hotel_word_to_ix),512,512).to(device)\n",
        "hotel_cbow2_loss = train(hotel_cbow2,hotel_loader,hotel_word_to_ix,num_epoch=30,log_out_epoch=5,loss_return=True)"
      ]
    },
    {
      "cell_type": "markdown",
      "metadata": {
        "id": "qn7teyu7987m"
      },
      "source": [
        "### 1.5 Train CBOW5 with a context width of 5 (in both directions) for the Hotel Reviews dataset.  \n",
        "\n",
        "🗒❓ Are predictions made by the model sensitive towards the context size?"
      ]
    },
    {
      "cell_type": "code",
      "execution_count": null,
      "metadata": {
        "id": "vHVDR0bq-Cqc",
        "colab": {
          "base_uri": "https://localhost:8080/"
        },
        "outputId": "cb67c03c-036d-4385-f2ac-ab38d5eeffe2"
      },
      "outputs": [
        {
          "output_type": "stream",
          "name": "stdout",
          "text": [
            "starting....\n"
          ]
        },
        {
          "output_type": "stream",
          "name": "stderr",
          "text": [
            "  3%|▎         | 1/30 [00:12<06:08, 12.70s/it]"
          ]
        },
        {
          "output_type": "stream",
          "name": "stdout",
          "text": [
            "Loss in Epoch 0: 11826.08\n"
          ]
        },
        {
          "output_type": "stream",
          "name": "stderr",
          "text": [
            " 20%|██        | 6/30 [01:13<04:54, 12.28s/it]"
          ]
        },
        {
          "output_type": "stream",
          "name": "stdout",
          "text": [
            "Loss in Epoch 5: 274.93\n"
          ]
        },
        {
          "output_type": "stream",
          "name": "stderr",
          "text": [
            " 37%|███▋      | 11/30 [02:15<03:52, 12.25s/it]"
          ]
        },
        {
          "output_type": "stream",
          "name": "stdout",
          "text": [
            "Loss in Epoch 10: 26.79\n"
          ]
        },
        {
          "output_type": "stream",
          "name": "stderr",
          "text": [
            " 53%|█████▎    | 16/30 [03:16<02:51, 12.26s/it]"
          ]
        },
        {
          "output_type": "stream",
          "name": "stdout",
          "text": [
            "Loss in Epoch 15: 15.98\n"
          ]
        },
        {
          "output_type": "stream",
          "name": "stderr",
          "text": [
            " 70%|███████   | 21/30 [04:17<01:50, 12.23s/it]"
          ]
        },
        {
          "output_type": "stream",
          "name": "stdout",
          "text": [
            "Loss in Epoch 20: 11.54\n"
          ]
        },
        {
          "output_type": "stream",
          "name": "stderr",
          "text": [
            " 87%|████████▋ | 26/30 [05:19<00:50, 12.64s/it]"
          ]
        },
        {
          "output_type": "stream",
          "name": "stdout",
          "text": [
            "Loss in Epoch 25: 9.05\n"
          ]
        },
        {
          "output_type": "stream",
          "name": "stderr",
          "text": [
            "100%|██████████| 30/30 [06:10<00:00, 12.35s/it]"
          ]
        },
        {
          "output_type": "stream",
          "name": "stdout",
          "text": [
            "Loss in Epoch 29: 7.71\n"
          ]
        },
        {
          "output_type": "stream",
          "name": "stderr",
          "text": [
            "\n"
          ]
        }
      ],
      "source": [
        "width = 5\n",
        "hotel_data5,hotel_word_to_ix5 = custom_preprocess('hotel',width)\n",
        "hotel_training_data5 = LanguageDataset(hotel_data5,hotel_word_to_ix5)\n",
        "hotel_loader5 = DataLoader(hotel_training_data5,batch_size=8,shuffle=True)\n",
        "\n",
        "hotel_cbow5 = CBOW(len(hotel_word_to_ix5),512,512).to(device)\n",
        "hotel_cbow5_loss = train(hotel_cbow5,hotel_loader5,hotel_word_to_ix5,num_epoch=30,log_out_epoch=5,loss_return=True)"
      ]
    },
    {
      "cell_type": "code",
      "execution_count": null,
      "metadata": {
        "colab": {
          "base_uri": "https://localhost:8080/",
          "height": 449
        },
        "id": "dp45pRaj0_Wb",
        "outputId": "73c364ef-beb5-4f88-d03b-4f772b9902dc"
      },
      "outputs": [
        {
          "output_type": "display_data",
          "data": {
            "text/plain": [
              "<Figure size 640x480 with 1 Axes>"
            ],
            "image/png": "[encoded data removed]"
          },
          "metadata": {}
        }
      ],
      "source": [
        "plt.plot(range(len(hotel_cbow2_loss)),hotel_cbow2_loss,label='width=2')\n",
        "plt.plot(range(len(hotel_cbow5_loss)),hotel_cbow5_loss,label='width=5')\n",
        "plt.xlabel('Training Epcoh')\n",
        "plt.ylabel('Log loss')\n",
        "plt.legend()\n",
        "plt.show()"
      ]
    },
    {
      "cell_type": "markdown",
      "metadata": {
        "id": "TUbOzWwm0_Wb"
      },
      "source": [
        "Yes. From the training log plot, we can see that training loss decreases quickly using width of 5 than that of 2.\n",
        "And the loss of width of 2 is higher than then that of 5. Therefore, the predictions made by the model sensitive towards the context size."
      ]
    },
    {
      "cell_type": "markdown",
      "metadata": {
        "id": "AXmEddYd-FSr"
      },
      "source": [
        "### 1.6 Train CBOW2 with a context width of 2 (in both directions) for the Sci-Fi story dataset"
      ]
    },
    {
      "cell_type": "code",
      "execution_count": null,
      "metadata": {
        "id": "PskWXlq90_Wb"
      },
      "outputs": [],
      "source": [
        "width=2\n",
        "scifi_data,scifi_word_to_ix = custom_preprocess('scifi',width)\n",
        "scifi_training_data = LanguageDataset(scifi_data,scifi_word_to_ix)\n",
        "scifi_loader = DataLoader(scifi_training_data,batch_size=8,shuffle=True)"
      ]
    },
    {
      "cell_type": "code",
      "execution_count": null,
      "metadata": {
        "colab": {
          "base_uri": "https://localhost:8080/"
        },
        "id": "fR1tjzOU0_Wb",
        "outputId": "c9ba1d69-ceda-4cc2-e115-2de85289f6ec"
      },
      "outputs": [
        {
          "output_type": "stream",
          "name": "stdout",
          "text": [
            "starting....\n"
          ]
        },
        {
          "output_type": "stream",
          "name": "stderr",
          "text": [
            "  3%|▎         | 1/30 [00:31<15:10, 31.41s/it]"
          ]
        },
        {
          "output_type": "stream",
          "name": "stdout",
          "text": [
            "Loss in Epoch 0: 11850.2\n"
          ]
        },
        {
          "output_type": "stream",
          "name": "stderr",
          "text": [
            " 20%|██        | 6/30 [03:08<12:39, 31.65s/it]"
          ]
        },
        {
          "output_type": "stream",
          "name": "stdout",
          "text": [
            "Loss in Epoch 5: 3963.35\n"
          ]
        },
        {
          "output_type": "stream",
          "name": "stderr",
          "text": [
            " 37%|███▋      | 11/30 [05:45<09:56, 31.40s/it]"
          ]
        },
        {
          "output_type": "stream",
          "name": "stdout",
          "text": [
            "Loss in Epoch 10: 250.03\n"
          ]
        },
        {
          "output_type": "stream",
          "name": "stderr",
          "text": [
            " 53%|█████▎    | 16/30 [08:22<07:18, 31.30s/it]"
          ]
        },
        {
          "output_type": "stream",
          "name": "stdout",
          "text": [
            "Loss in Epoch 15: 71.87\n"
          ]
        },
        {
          "output_type": "stream",
          "name": "stderr",
          "text": [
            " 70%|███████   | 21/30 [10:59<04:42, 31.34s/it]"
          ]
        },
        {
          "output_type": "stream",
          "name": "stdout",
          "text": [
            "Loss in Epoch 20: 44.74\n"
          ]
        },
        {
          "output_type": "stream",
          "name": "stderr",
          "text": [
            " 87%|████████▋ | 26/30 [13:35<02:05, 31.33s/it]"
          ]
        },
        {
          "output_type": "stream",
          "name": "stdout",
          "text": [
            "Loss in Epoch 25: 38.68\n"
          ]
        },
        {
          "output_type": "stream",
          "name": "stderr",
          "text": [
            "100%|██████████| 30/30 [15:40<00:00, 31.36s/it]"
          ]
        },
        {
          "output_type": "stream",
          "name": "stdout",
          "text": [
            "Loss in Epoch 29: 37.72\n"
          ]
        },
        {
          "output_type": "stream",
          "name": "stderr",
          "text": [
            "\n"
          ]
        }
      ],
      "source": [
        "scifi_cbow2 = CBOW(len(scifi_word_to_ix),512,512).to(device)\n",
        "scifi_cbow2_loss = train(scifi_cbow2,scifi_loader,scifi_word_to_ix,num_epoch=30,log_out_epoch=5,loss_return=True)"
      ]
    },
    {
      "cell_type": "markdown",
      "metadata": {
        "id": "ulqFt2nc_Oq7"
      },
      "source": [
        "### 2.1 For the hotel reviews dataset, choose 3 nouns, 3 verbs, and 3 adjectives. (CBOW2 and optionally for CBOW5)\n",
        "Make sure that some nouns/verbs/adjectives occur frequently in the corpus and that others are rare. For each of the 9 chosen words, retrieve the 5 closest words according to your trained CBOW2 model.    \n",
        "\n",
        "🗒❓ List them in your report (at the end of this notebook) and comment on the performance of your model: do the neighbours the model provides make sense? Discuss.   \n"
      ]
    },
    {
      "cell_type": "code",
      "execution_count": null,
      "metadata": {
        "colab": {
          "base_uri": "https://localhost:8080/"
        },
        "id": "kh5T_nvS0_Wb",
        "outputId": "048fa34d-a6e7-4c47-dc88-e4efdf3977b9"
      },
      "outputs": [
        {
          "output_type": "stream",
          "name": "stderr",
          "text": [
            "[nltk_data] Downloading package punkt to /root/nltk_data...\n",
            "[nltk_data]   Package punkt is already up-to-date!\n",
            "[nltk_data] Downloading package averaged_perceptron_tagger to\n",
            "[nltk_data]     /root/nltk_data...\n",
            "[nltk_data]   Unzipping taggers/averaged_perceptron_tagger.zip.\n"
          ]
        },
        {
          "output_type": "execute_result",
          "data": {
            "text/plain": [
              "True"
            ]
          },
          "metadata": {},
          "execution_count": 18
        }
      ],
      "source": [
        "import nltk\n",
        "nltk.download('punkt')\n",
        "nltk.download('averaged_perceptron_tagger')"
      ]
    },
    {
      "cell_type": "code",
      "execution_count": null,
      "metadata": {
        "id": "PRhW1MSU_byy",
        "colab": {
          "base_uri": "https://localhost:8080/"
        },
        "outputId": "e2275b5f-d66e-40b1-a690-e243cceab603"
      },
      "outputs": [
        {
          "output_type": "stream",
          "name": "stdout",
          "text": [
            "['hotel', 'room', 'nt', 'staff', 'stay', 'location', 'stayed', 'service', 'time', 'night', 'day', 'beach', 'clean', 'breakfast', 'food', 'place', 'resort', 'pool', 'walk', 'excellent']\n",
            "['great', 'good', 'nice', 'small', 'little', 'comfortable', 'free', 'large', 'new', 'big', 'fantastic', 'bad', 'quiet', 'old', 'main', 'hot', 'overall', 'english', 'easy', 'different']\n",
            "['makes', 'goes', 'takes', 'gets', 'comes', 'says', 'gives', 'wants', 'includes', 'provides', 'faces', 'appears', 'adds', 'sells', 'requires', 'expects', 'follows', 'owns', 'continues', 'reflects']\n"
          ]
        }
      ],
      "source": [
        "reviews = read_file('hotel')\n",
        "\n",
        "## construct a dictionary to count each word's frequency\n",
        "cnt_word = {key:0 for key in hotel_word_to_ix.keys()}\n",
        "for word in reviews:\n",
        "    cnt_word[word] += 1\n",
        "\n",
        "num_candidate = 20\n",
        "## order the dictionary according to the frequency\n",
        "sorted_cnt_word = sorted(cnt_word.items(),key=lambda item:item[1],reverse=True)\n",
        "NN_ls = []\n",
        "JJ_ls = []\n",
        "VERB_ls = []\n",
        "for word,freq in sorted_cnt_word:\n",
        "    tag = nltk.pos_tag([word])[0][1]\n",
        "    if tag=='NN' and len(NN_ls)<num_candidate:\n",
        "        NN_ls.append(word)\n",
        "    elif tag=='JJ' and len(JJ_ls)<num_candidate:\n",
        "        JJ_ls.append(word)\n",
        "    elif tag=='VBZ' and len(VERB_ls)<num_candidate:\n",
        "        VERB_ls.append(word)\n",
        "    else:\n",
        "        continue\n",
        "print(NN_ls)\n",
        "print(JJ_ls)\n",
        "print(VERB_ls)"
      ]
    },
    {
      "cell_type": "raw",
      "metadata": {
        "id": "Y1oJoMZU0_Wc"
      },
      "source": [
        "3 nouns:['hotel','room','pool']\n",
        "\n",
        "3 adjectives:['great','good','different']\n",
        "\n",
        "3 verbs:['goes','makes','expects']\n",
        "\n",
        "The frequently occurring words are: 'hotel', 'room', 'great', 'good', 'goes', 'makes'\n",
        "\n",
        "The rarely occurring words are: 'pool', 'different', 'expects'"
      ]
    },
    {
      "cell_type": "code",
      "execution_count": null,
      "metadata": {
        "colab": {
          "base_uri": "https://localhost:8080/"
        },
        "id": "_90QTapu0_Wc",
        "outputId": "bddd97c9-1b2f-45c1-a3ee-18322205c9e5"
      },
      "outputs": [
        {
          "output_type": "stream",
          "name": "stdout",
          "text": [
            "hotel:['stanford', 'pillowadmittedly', 'stupours', 'greets', 'brasilia']\n",
            "room:['cliffcafe', 'thoughtout', 'watertowntucked', 'conditiongwe', 'playwalk']\n",
            "pool:['countrydean', 'brawl', 'mobilis', 'sixed', 'piccolo']\n",
            "great:['foodsickness', 'appatizers', 'doormen', 'originally', 'validate']\n",
            "good:['pleasedtip', 'tp', 'aidia', 'cocoçé', 'mountains']\n",
            "different:['checkers', 'gem', 'dying', 'variedtry', 'nazi']\n",
            "goes:['buy', 'breakfastlunch', 'duomo', 'origanated', 'queing']\n",
            "makes:['broussard', 'fernsehrturm', 'acapulco', 'stylishly', 'squareeven']\n",
            "expects:['waht', 'feature', 'departures', 'shadier', 'amazingpool']\n"
          ]
        }
      ],
      "source": [
        "cbow2_embed = hotel_cbow2.embeddings.weight.cpu()\n",
        "hotel_ix_to_word = {val:key for key,val in hotel_word_to_ix.items()}\n",
        "for word in ['hotel','room','pool','great','good','different','goes','makes','expects']:\n",
        "    embed_vec  = cbow2_embed[hotel_word_to_ix[word],:]\n",
        "    dist = torch.sqrt(torch.sum((cbow2_embed - embed_vec)**2,dim=-1))\n",
        "    closet_ixs = torch.argsort(dist)[1:6]\n",
        "    closet_words = [hotel_ix_to_word[ix.item()] for ix in closet_ixs]\n",
        "    print(f'{word}:{closet_words}')"
      ]
    },
    {
      "cell_type": "markdown",
      "metadata": {
        "id": "njWN32I2ADn9"
      },
      "source": [
        "### 2.2 Repeat 2.1 for SciFi Dataset\n",
        "\n",
        "🗒❓ List your findings for SciFi Dataset as well, similarly to 2.1"
      ]
    },
    {
      "cell_type": "code",
      "execution_count": null,
      "metadata": {
        "id": "h3Uyn_VpAWa-",
        "outputId": "12234d35-b7dc-4d7d-e3eb-9d19f52cc863"
      },
      "outputs": [
        {
          "name": "stdout",
          "output_type": "stream",
          "text": [
            "['i', 'time', 'man', 'dont', 'way', 'right', 'im', 'think', 'something', 'didnt', 'thought', 'face', 'want', 'head', 'ship', 'look', 'nothing', 'thing', 'room', 'hand']\n",
            "['other', 'little', 'good', 'new', 'much', 'old', 'own', 'few', 'last', 'such', 'many', 'small', 'same', 'great', 'big', 'ive', 'next', 'open', 'second', 'dead']\n",
            "['is', 'has', 'does', 'says', 'seems', 'makes', 'comes', 'faces', 'goes', 'gets', 'wants', 'takes', 'gives', 'appears', 'holds', 'requires', 'follows', 'believes', 'includes', 'carries']\n"
          ]
        }
      ],
      "source": [
        "scifi = read_file('scifi')\n",
        "\n",
        "## construct a dictionary to count each word's frequency\n",
        "cnt_word = {key:0 for key in scifi_word_to_ix.keys()}\n",
        "for word in scifi:\n",
        "    cnt_word[word] += 1\n",
        "\n",
        "num_candidate = 20\n",
        "## order the dictionary according to the frequency\n",
        "sorted_cnt_word = sorted(cnt_word.items(),key=lambda item:item[1],reverse=True)\n",
        "NN_ls = []\n",
        "JJ_ls = []\n",
        "VERB_ls = []\n",
        "for word,freq in sorted_cnt_word:\n",
        "    tag = nltk.pos_tag([word])[0][1]\n",
        "    if tag=='NN' and len(NN_ls)<num_candidate:\n",
        "        NN_ls.append(word)\n",
        "    elif tag=='JJ' and len(JJ_ls)<num_candidate:\n",
        "        JJ_ls.append(word)\n",
        "    elif tag=='VBZ' and len(VERB_ls)<num_candidate:\n",
        "        VERB_ls.append(word)\n",
        "    else:\n",
        "        continue\n",
        "## I give 20 candidates for each tag (some may not be proper)\n",
        "print(NN_ls)\n",
        "print(JJ_ls)\n",
        "print(VERB_ls)"
      ]
    },
    {
      "cell_type": "markdown",
      "metadata": {
        "id": "fPIe7z9Z0_Wc"
      },
      "source": [
        "3 nouns:['time', 'man','room']\n",
        "\n",
        "3 adjectives:['good', 'new','dead']\n",
        "\n",
        "3 verbs:['makes','goes','carries']\n",
        "\n",
        "\n",
        "The frequently occurring words are: 'time', 'man', 'new', 'good', 'goes', 'makes'\n",
        "\n",
        "The rarely occurring words are: 'room', 'dead', 'carries'"
      ]
    },
    {
      "cell_type": "code",
      "execution_count": null,
      "metadata": {
        "colab": {
          "base_uri": "https://localhost:8080/"
        },
        "id": "qjI26MnC0_Wc",
        "outputId": "d459cb96-5559-451e-996b-0ab5cbde93a6"
      },
      "outputs": [
        {
          "output_type": "stream",
          "name": "stdout",
          "text": [
            "time:['btub', 'chargip', 'kidneyshaped', 'huriy', 'jnitiiin']\n",
            "man:['busings', 'slamup', 'indemnity', 'bureau', 'lighters']\n",
            "room:['amsirprint', 'floridity', 'acclimate', 'obedience', 'retz']\n",
            "good:['earthlike', 'scrateh', 'neutrinos', 'ught', 'pocketbooks']\n",
            "new:['illlit', 'astrofiautical', 'entraocc', 'brooches', 'riddance']\n",
            "dead:['dwuuhrr', 'emerson', 'pukka', 'camerarange', 'ikfiofi']\n",
            "makes:['toilettraining', 'hullscrapings', 'runts', 'yery', 'truereeding']\n",
            "goes:['extensor', 'trinexus', 'lascarrobot', 'houseflag', 'jmfe']\n",
            "carries:['godcaves', 'disseminated', 'completeness', 'trailer', 'shortness']\n"
          ]
        }
      ],
      "source": [
        "scifi_cbow2_embed = scifi_cbow2.embeddings.weight.cpu()\n",
        "scifi_ix_to_word = {val:key for key,val in scifi_word_to_ix.items()}\n",
        "for word in ['time', 'man','room','good', 'new','dead','makes','goes','carries']:\n",
        "    embed_vec  = scifi_cbow2_embed[scifi_word_to_ix[word],:]\n",
        "    dist = torch.sqrt(torch.sum((scifi_cbow2_embed - embed_vec)**2,dim=-1))\n",
        "    closet_ixs = torch.argsort(dist)[1:6]\n",
        "    closet_words = [scifi_ix_to_word[ix.item()] for ix in closet_ixs]\n",
        "    print(f'{word}:{closet_words}')"
      ]
    },
    {
      "cell_type": "markdown",
      "metadata": {
        "id": "E2yqWM5oAhzf"
      },
      "source": [
        "### 2.3 🗒❓ How does the quality of the hotel review-based embeddings compare with the Sci-fi-based embeddings? Elaborate."
      ]
    },
    {
      "cell_type": "markdown",
      "metadata": {
        "id": "Ivwn8YCgA4GX"
      },
      "source": [
        "### 2.4 Choose 2 words and retrieve their 5 closest neighbours according to hotel review-based embeddings and the Sci-fi-based embeddings.\n",
        "\n",
        "🗒❓ Do they have different neighbours? If yes, can you reason why?"
      ]
    },
    {
      "cell_type": "markdown",
      "metadata": {
        "id": "4J_xUKzgA3gU"
      },
      "source": [
        "From 2.2, we can see, several same words were selected in 2.1 and 2.2. The neighbors are different. For example, 'room'.\n",
        "Yes. Because these two corpus are in different topics. Therefore, it will lead to different context for given target word."
      ]
    },
    {
      "cell_type": "markdown",
      "metadata": {
        "id": "DD09lU02Cw7e"
      },
      "source": [
        "### 2.5 🗒❓ What are the differences between CBOW2 and CBOW5 ? Can you \"describe\" them?    "
      ]
    },
    {
      "cell_type": "markdown",
      "metadata": {
        "id": "L9SZlUPM4mZr"
      },
      "source": [
        "The main difference between CBOW2 and CBOW5 is the window size. We can also call it as context length. To many context will lead to information redundancy and short context will also lead to lack of information. Therefore, appropriate width is important for CBOW model."
      ]
    },
    {
      "cell_type": "markdown",
      "metadata": {
        "id": "RdgWLLHJC24h"
      },
      "source": [
        "### Report\n",
        "\n",
        "#1. Training CBOW Embeddings\n",
        "\n",
        "###1.1 Implement a CBOW Model by completing class CBOW(nn.Module) and train it on raw_text.\n",
        "The goal of this lab is to train Continuous Bag of Words (CBOW) models on two different datasets: TripAdvisor Hotel Reviews and a Sci-Fi story text. The primary objective is to observe how varying the context window size affects the model's performance. Three CBOW models are trained:\n",
        "\n",
        "CBOW2: Context width of 2 (in both directions) on the Hotel Reviews dataset.\n",
        "CBOW5: Context width of 5 (in both directions) on the Hotel Reviews dataset.\n",
        "CBOW2: Context width of 2 (in both directions) on the Sci-Fi story dataset.\n",
        "\n",
        "###1.2 Load Datasets tripadvisor_hotel_reviews_reduced.csv and scifi_reduced.txt.\n",
        "\n",
        "###1.3 Decide preprocessing steps by completing the function def custom_preprocess(). Describe your decisions. Note that it's your choice to create different preprocessing functions for hotel reviews and scifi datasets or use the same preprocessing function.\n",
        "The preprocessing involves cleaning the text and preparing it for model training, which contains the following things:\n",
        "\n",
        "a. Lowercasing: All text is converted to lowercase to maintain uniformity and avoid treating words differently due to case variations.\n",
        "\n",
        "b. Removing Numbers: Numbers are removed since they do not add valuable information for this type of language modeling task.\n",
        "\n",
        "c. Removing Punctuation: Punctuation marks are stripped as they do not contribute to the word prediction in this setup.\n",
        "\n",
        "d. Tokenization: The text is tokenized into individual words using nltk.word_tokenize.\n",
        "\n",
        "e. Stopword Removal, including Hotel Reviews, in which Stopwords are removed to focus on meaningful content words. and Sci-Fi Story, meaning Stopwords are retained, as they could provide valuable contextual information in a literary text.\n",
        "\n",
        "The training data preparation follows these steps:\n",
        "\n",
        "a. Reading and Tokenizing the Text: Depending on the dataset, stopwords may or may not be removed.\n",
        "\n",
        "b. Vocabulary Creation: A set of unique tokens is created, and each word is mapped to an index using a dictionary (word_to_ix).\n",
        "\n",
        "c. Generating Context-Target Pairs: For each word in the text, a context window of the specified width (e.g., 2 or 5) is used to create context-target pairs for training.\n",
        "\n",
        "d. Sampling Data: To reduce computational load, a subset of context-target pairs is randomly sampled.\n",
        "###1.4 Train CBOW2 with a context width of 2 (in both directions) for the Hotel Reviews dataset.\n",
        "\n",
        "Fo the initial loss, the loss started high, around 12,218.45, indicating that the model began with random initial weights. The loss decreased significantly over the epochs, dropping from 12,218.45 at epoch 0 to 21.5 at epoch 29. This steady decrease in loss suggests that the model effectively learned word representations from the given context.\n",
        "\n",
        "Training the CBOW2 model on the Hotel Reviews dataset showed that the model can learn effectively even with a smaller context window. However, the results in the next step (1.5) demonstrated that using a larger context window leads to faster convergence and a lower final loss, indicating a potential advantage for larger context sizes in word representation learning.\n",
        "\n",
        "###1.5 Train CBOW5 with a context width of 5 (in both directions) for the Hotel Reviews dataset. Are predictions made by the model sensitive towards the context size?\n",
        "Yes. From the training log plot, we can see that training loss decreases quickly using width of 5 than that of 2. And the loss of width of 2 is higher than then that of 5. Therefore, the predictions made by the model sensitive towards the context size.\n",
        "\n",
        "The initial loss was 11,826.08, slightly lower than the starting loss for the CBOW2 model. The loss decreased much faster compared to CBOW2. By epoch 5, the loss had already dropped significantly to 274.93. By epoch 29, the final loss was 7.71.\n",
        "What we can conclude from the above results is that training with a larger context window (CBOW5) led to faster convergence and lower final training loss compared to the smaller context (CBOW2) for the hotel reviews. This suggests that the model benefits from additional contextual information in learning word representations.\n",
        "\n",
        "The loss curves for both CBOW2 and CBOW5 models on the hotel reviews dataset show that the model with the larger context window reaches lower loss values more quickly, indicating better learning efficiency.\n",
        "###1.6 Train CBOW2 with a context width of 2 (in both directions) for the Sci-Fi story dataset.\n",
        "The initial loss was 11,850.2, similar to the hotel review dataset.Then, the loss decreased steadily but not as quickly as in the hotel review dataset. By epoch 10, the loss had reduced to 250.03, and by epoch 29, the final loss was 37.72.\n",
        "Training the CBOW2 model on the Sci-Fi dataset took longer and resulted in a higher final loss compared to the hotel reviews dataset, suggesting that the narrative structure of the literary text is more complex, possibly requiring a different approach to achieve similar performance.\n",
        "\n",
        "#2. Test your Embeddings\n",
        "Note - Do the following for CBOW2, and optionally for CBOW5\n",
        "\n",
        "###2.1 For the hotel reviews dataset, choose 3 nouns, 3 verbs, and 3 adjectives. Make sure that some nouns/verbs/adjectives occur frequently in the corpus and that others are rare. For each of the 9 chosen words, retrieve the 5 closest words according to your trained CBOW2 model. List them in your report and comment on the performance of your model: do the neighbours the model provides make sense? Discuss.\n",
        "Nouns: hotel (frequent), room (frequent), pool (rare)\n",
        "\n",
        "Adjectives: great (frequent), good (frequent), different (rare)\n",
        "\n",
        "Verbs: goes (frequent), makes (frequent), expects (rare)\n",
        "\n",
        "Nearest Neighbors\n",
        "\n",
        "hotel: ['stanford', 'pillowadmittedly', 'stupours', 'greets', 'brasilia']\n",
        "\n",
        "room: ['cliffcafe', 'thoughtout', 'watertowntucked', 'conditiongwe', 'playwalk']\n",
        "\n",
        "pool: ['countrydean', 'brawl', 'mobilis', 'sixed', 'piccolo']\n",
        "\n",
        "great: ['foodsickness', 'appatizers', 'doormen', 'originally', 'validate']\n",
        "\n",
        "good: ['pleasedtip', 'tp', 'aidia', 'cocoçé', 'mountains']\n",
        "\n",
        "different: ['checkers', 'gem', 'dying', 'variedtry', 'nazi']\n",
        "\n",
        "goes: ['buy', 'breakfastlunch', 'duomo', 'origanated', 'queing']\n",
        "\n",
        "makes: ['broussard', 'fernsehrturm', 'acapulco', 'stylishly', 'squareeven']\n",
        "\n",
        "expects: ['waht', 'feature', 'departures', 'shadier', 'amazingpool']\n",
        "\n",
        "The neighbors retrieved for each word appear to be noisy and not entirely related semantically. Many of the closest words seem unrelated to the target word's meaning, which suggests that the embeddings may not capture meaningful relationships effectively. This indicates potential limitations in the quality of training data, model configuration, or insufficient training epochs.\n",
        "##2.2 Do the same for Sci-Fi dataset.\n",
        "Nouns: time (frequent), man (frequent), room (rare)\n",
        "\n",
        "Adjectives: good (frequent), new (frequent), dead (rare)\n",
        "\n",
        "Verbs: makes (frequent), goes (frequent), carries (rare)\n",
        "\n",
        "Nearest Neighbors\n",
        "\n",
        "time: ['btub', 'chargip', 'kidneyshaped', 'huriy', 'jnitiiin']\n",
        "\n",
        "man: ['busings', 'slamup', 'indemnity', 'bureau', 'lighters']\n",
        "\n",
        "room: ['amsirprint', 'floridity', 'acclimate', 'obedience', 'retz']\n",
        "\n",
        "good: ['earthlike', 'scrateh', 'neutrinos', 'ught', 'pocketbooks']\n",
        "\n",
        "new: ['illlit', 'astrofiautical', 'entraocc', 'brooches', 'riddance']\n",
        "\n",
        "dead: ['dwuuhrr', 'emerson', 'pukka', 'camerarange', 'ikfiofi']\n",
        "\n",
        "makes: ['toilettraining', 'hullscrapings', 'runts', 'yery', 'truereeding']\n",
        "\n",
        "goes: ['extensor', 'trinexus', 'lascarrobot', 'houseflag', 'jmfe']\n",
        "\n",
        "carries: ['godcaves', 'disseminated', 'completeness', 'trailer', 'shortness']\n",
        "\n",
        "Similar to the hotel reviews, the neighbors retrieved are mostly unrelated to the original word. The embedding space for the Sci-Fi dataset appears noisy, with many nonsensical or uncommon terms being close neighbors. This suggests that the model might have struggled with generalization due to the complex vocabulary in Sci-Fi texts.\n",
        "\n",
        "##2.3 How does the quality of the hotel review-based embeddings compare with the Sci-fi-based embeddings? Elaborate.\n",
        "The quality of embeddings from the hotel reviews dataset appears slightly better than the Sci-Fi embeddings. This is likely due to the simpler vocabulary and more consistent word usage in the hotel reviews. In contrast, the Sci-Fi dataset contains more unusual or domain-specific terms, making it harder for the model to learn meaningful embeddings.\n",
        "##2.4 Choose 2 words and retrieve their 5 closest neighbours according to hotel review-based embeddings and the Sci-fi-based embeddings. Do they have different neighbours? If yes, can you reason why?\n",
        "From 2.2, we can see, several same words were selected in 2.1 and 2.2. The neighbors are different. Yes. Because these two corpus are in different topics. Therefore, it will lead to different context for given target word.\n",
        "For example, we retrieved the five closest neighbors for the word \"room\" from both the hotel reviews and Sci-Fi embeddings:\n",
        "\n",
        "Hotel Review Embeddings: ['cliffcafe', 'thoughtout', 'watertowntucked', 'conditiongwe', 'playwalk']\n",
        "\n",
        "Sci-Fi Embeddings: ['amsirprint', 'floridity', 'acclimate', 'obedience', 'retz']\n",
        "\n",
        "The neighbors differ significantly, reflecting the different contexts in each dataset. In hotel reviews, \"room\" is associated with words related to hospitality. In the Sci-Fi dataset, the context is much more abstract, potentially relating to different types of spaces or sci-fi concepts.\n",
        "\n",
        "##2.5 What are the differences between CBOW2 and CBOW5 ? Can you \"describe\" them?\n",
        "The primary difference between CBOW2 and CBOW5 is the context window size.\n",
        "\n",
        "CBOW2 uses a smaller context window (4 words total), potentially leading to a limited view of the target word's surroundings, which can be beneficial for simpler texts but may lack the richness needed for more complex language.\n",
        "\n",
        "CBOW5 uses a larger context window (10 words total), which helps capture broader contextual relationships but may introduce noise if the additional words are not informative."
      ]
    }
  ],
  "metadata": {
    "colab": {
      "provenance": [],
      "gpuType": "T4"
    },
    "kernelspec": {
      "display_name": "Python 3",
      "name": "python3"
    },
    "language_info": {
      "codemirror_mode": {
        "name": "ipython",
        "version": 3
      },
      "file_extension": ".py",
      "mimetype": "text/x-python",
      "name": "python",
      "nbconvert_exporter": "python",
      "pygments_lexer": "ipython3",
      "version": "3.11.8"
    },
    "accelerator": "GPU"
  },
  "nbformat": 4,
  "nbformat_minor": 0
}